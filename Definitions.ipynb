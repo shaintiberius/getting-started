{
 "cells": [
  {
   "cell_type": "code",
   "execution_count": 1,
   "id": "283cd3d2",
   "metadata": {},
   "outputs": [
    {
     "name": "stdout",
     "output_type": "stream",
     "text": [
      "Hello Queen Elizabeth\n"
     ]
    }
   ],
   "source": [
    "def greet(name1):\n",
    "    print('Hello '+ name1)\n",
    "    \n",
    "greet('Queen Elizabeth')"
   ]
  },
  {
   "cell_type": "code",
   "execution_count": 2,
   "id": "7d6b65ca",
   "metadata": {},
   "outputs": [],
   "source": [
    "import math\n"
   ]
  },
  {
   "cell_type": "code",
   "execution_count": 43,
   "id": "fc493609",
   "metadata": {},
   "outputs": [
    {
     "name": "stdout",
     "output_type": "stream",
     "text": [
      "Chris Evans is a great actor\n"
     ]
    }
   ],
   "source": [
    "Actor = 'Chris Evans'\n",
    "def Admire (Actor):\n",
    "    print(Actor +' is a great actor')\n",
    "Admire(Actor)"
   ]
  },
  {
   "cell_type": "code",
   "execution_count": null,
   "id": "104f96ee",
   "metadata": {},
   "outputs": [],
   "source": []
  },
  {
   "cell_type": "code",
   "execution_count": 44,
   "id": "f8f6872a",
   "metadata": {},
   "outputs": [
    {
     "name": "stdout",
     "output_type": "stream",
     "text": [
      "Ryan Reynolds is a great actor\n"
     ]
    }
   ],
   "source": [
    "Actor = 'Ryan Reynolds'\n",
    "def Admire (Actor):\n",
    "    print(Actor +' is a great actor')\n",
    "Admire(Actor)"
   ]
  },
  {
   "cell_type": "code",
   "execution_count": 45,
   "id": "45678b25",
   "metadata": {},
   "outputs": [
    {
     "name": "stdout",
     "output_type": "stream",
     "text": [
      "Chris Hemsworth is a great actor\n"
     ]
    }
   ],
   "source": [
    "Actor = 'Chris Hemsworth'\n",
    "def Admire (Actor):\n",
    "    print(Actor +' is a great actor')\n",
    "Admire(Actor)"
   ]
  },
  {
   "cell_type": "code",
   "execution_count": 56,
   "id": "c55c95a9",
   "metadata": {},
   "outputs": [
    {
     "data": {
      "text/plain": [
       "8526"
      ]
     },
     "execution_count": 56,
     "metadata": {},
     "output_type": "execute_result"
    }
   ],
   "source": [
    "def doMath(x,y):\n",
    "    return(x*y)  \n",
    "doMath(98, 87)"
   ]
  },
  {
   "cell_type": "code",
   "execution_count": 55,
   "id": "fcfe905c",
   "metadata": {},
   "outputs": [
    {
     "data": {
      "text/plain": [
       "884424282"
      ]
     },
     "execution_count": 55,
     "metadata": {},
     "output_type": "execute_result"
    }
   ],
   "source": [
    "doMath(2534,349023)"
   ]
  }
 ],
 "metadata": {
  "kernelspec": {
   "display_name": "Python 3 (ipykernel)",
   "language": "python",
   "name": "python3"
  },
  "language_info": {
   "codemirror_mode": {
    "name": "ipython",
    "version": 3
   },
   "file_extension": ".py",
   "mimetype": "text/x-python",
   "name": "python",
   "nbconvert_exporter": "python",
   "pygments_lexer": "ipython3",
   "version": "3.9.12"
  }
 },
 "nbformat": 4,
 "nbformat_minor": 5
}
